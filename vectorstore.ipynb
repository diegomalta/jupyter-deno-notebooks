{
 "cells": [
  {
   "cell_type": "code",
   "execution_count": null,
   "metadata": {},
   "outputs": [],
   "source": [
    "import \"dotenv/config\";"
   ]
  },
  {
   "cell_type": "code",
   "execution_count": null,
   "metadata": {},
   "outputs": [],
   "source": [
    "import { OpenAIEmbeddings } from \"@langchain/openai\";\n",
    "\n",
    "const embeddings = new OpenAIEmbeddings();\n",
    "\n",
    "await embeddings.embedQuery(\"This is some sample text\");"
   ]
  },
  {
   "cell_type": "code",
   "execution_count": null,
   "metadata": {},
   "outputs": [],
   "source": [
    "import { similarity } from \"ml-distance\";\n",
    "\n",
    "const vector1 = await embeddings.embedQuery(\n",
    "    \"What are vectors useful for in machine learning?\"\n",
    ");\n",
    "const unrelatedVector = await embeddings.embedQuery(\n",
    "    \"A group of parrots is called a pandemonium.\"\n",
    ");"
   ]
  },
  {
   "cell_type": "code",
   "execution_count": null,
   "metadata": {},
   "outputs": [],
   "source": [
    "similarity.cosine(vector1, unrelatedVector);"
   ]
  },
  {
   "cell_type": "code",
   "execution_count": null,
   "metadata": {},
   "outputs": [],
   "source": [
    "const similarVector = await embeddings.embedQuery(\n",
    "  \"Vectors are representations of information.\"\n",
    ");\n",
    "\n",
    "similarity.cosine(vector1, similarVector);"
   ]
  }
 ],
 "metadata": {
  "kernelspec": {
   "display_name": "Deno",
   "language": "typescript",
   "name": "deno"
  },
  "language_info": {
   "file_extension": ".ts",
   "mimetype": "text/x.typescript",
   "name": "typescript",
   "nb_converter": "script",
   "pygments_lexer": "typescript",
   "version": "5.3.3"
  }
 },
 "nbformat": 4,
 "nbformat_minor": 2
}
