{
 "cells": [
  {
   "cell_type": "code",
   "execution_count": null,
   "metadata": {},
   "outputs": [],
   "source": [
    "import \"dotenv/config\";"
   ]
  },
  {
   "cell_type": "code",
   "execution_count": null,
   "metadata": {},
   "outputs": [],
   "source": [
    "import { ChatOpenAI } from \"@langchain/openai\";\n",
    "import { HumanMessage } from \"@langchain/core/messages\";"
   ]
  },
  {
   "cell_type": "code",
   "execution_count": null,
   "metadata": {},
   "outputs": [],
   "source": [
    "const model = new ChatOpenAI({\n",
    "  modelName: \"gpt-3.5-turbo-1106\"\n",
    "});\n",
    "\n",
    "await model.invoke([\n",
    "  new HumanMessage(\"Tell me a joke.\")\n",
    "]);"
   ]
  },
  {
   "cell_type": "code",
   "execution_count": null,
   "metadata": {},
   "outputs": [],
   "source": [
    "import { ChatPromptTemplate } from \"@langchain/core/prompts\";\n",
    "\n",
    "const prompt = ChatPromptTemplate.fromMessages([\n",
    "    [\"system\", `You are an expert email writer who \n",
    "                guarantees that all emails are precise, grammatically correct, and easy to understand. \n",
    "                The user will provide the type of formality and the email text to be corrected; \n",
    "                your work is to analyze and fix the provided email.`],\n",
    "    [\"human\", \"Formality: {formality}, email: {email}\"]]\n",
    ");"
   ]
  },
  {
   "cell_type": "code",
   "execution_count": null,
   "metadata": {},
   "outputs": [],
   "source": [
    "console.log(await prompt.format({\n",
    "  formality: \"neutral\",\n",
    "  email: \"Hi, how are you?\"\n",
    "}));"
   ]
  },
  {
   "cell_type": "code",
   "execution_count": null,
   "metadata": {},
   "outputs": [],
   "source": [
    "const chain = prompt.pipe(model);\n",
    "\n",
    "await chain.invoke({\n",
    "  formality: \"neutral\",\n",
    "  email: \"Hi, how are you?\"\n",
    "});"
   ]
  },
  {
   "cell_type": "code",
   "execution_count": null,
   "metadata": {},
   "outputs": [],
   "source": [
    "import { StringOutputParser } from \"@langchain/core/output_parsers\";\n",
    "\n",
    "const chain = prompt.pipe(model).pipe(new StringOutputParser());\n",
    "\n",
    "console.log(await chain.invoke({\n",
    "  formality: \"formal\",\n",
    "  email: \"Hi, how are you?\"\n",
    "}));"
   ]
  }
 ],
 "metadata": {
  "kernelspec": {
   "display_name": "Deno",
   "language": "typescript",
   "name": "deno"
  },
  "language_info": {
   "file_extension": ".ts",
   "mimetype": "text/x.typescript",
   "name": "typescript",
   "nb_converter": "script",
   "pygments_lexer": "typescript",
   "version": "5.3.3"
  }
 },
 "nbformat": 4,
 "nbformat_minor": 2
}
